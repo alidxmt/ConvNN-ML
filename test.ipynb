{
 "cells": [
  {
   "cell_type": "code",
   "execution_count": 1,
   "id": "a6654b55",
   "metadata": {},
   "outputs": [],
   "source": [
    "import numpy as np\n",
    "import pandas as pd \n",
    "import matplotlib.pyplot as plt\n",
    "import urllib3\n",
    "import urllib.request\n",
    "import os\n",
    "import cv2\n",
    "from tempfile import NamedTemporaryFile\n",
    "from google.cloud import storage\n",
    "\n",
    "def get_dataframes():\n",
    "\n",
    "    jsonSeries = pd.read_json('gs://foodygs/foodyai_data/Training_2/annotations.json',typ='series')\n",
    "    # jsonseries has three dataframe and it could be retrieved as the following\n",
    "\n",
    "    categories = pd.DataFrame(jsonSeries.categories)  \n",
    "    print(f'categories information containing {len(categories)} rows has been received')\n",
    "    \n",
    "    images = pd.DataFrame(jsonSeries.images)\n",
    "    print(f'image information containing {len(images)} rows has been received')\n",
    "\n",
    "    annotations = pd.DataFrame(jsonSeries.annotations)    \n",
    "    print(f'annotations information containing {len(annotations)} rows has been received')\n",
    "\n",
    "    nutrition = pd.read_csv('gs://foodygs/Nutrition/nutrition.csv', sep=\",\", index_col=0)\n",
    "    print(f'nutrition information containing {len(nutrition)} has been received')\n",
    "\n",
    "\n",
    "    \n",
    "    \n",
    "    return categories,images,annotations,nutrition\n",
    "\n",
    "# get_dataframes()\n",
    "\n",
    "def get_an_image(img_url_and_name='https://storage.cloud.google.com/foodygs/foodyai_data/Training_2/images/006316.jpg'):\n",
    "    # resp = urllib.request.urlopen(img_url_and_name)\n",
    "    # image = np.asarray(bytearray(resp.read()), dtype=\"uint8\")\n",
    "    # image = cv2.imdecode(image, cv2.IMREAD_COLOR)\n",
    "    image = cv2.imread(img_url_and_name, 0)\n",
    "    print(type(image))\n",
    "    return image\n",
    "\n",
    "# get_an_image('https://storage.cloud.google.com/foodygs/foodyai_data/Training_2/images/006316.jpg')"
   ]
  },
  {
   "cell_type": "code",
   "execution_count": 6,
   "id": "d682565a",
   "metadata": {},
   "outputs": [
    {
     "name": "stdout",
     "output_type": "stream",
     "text": [
      "<class 'NoneType'>\n"
     ]
    },
    {
     "name": "stderr",
     "output_type": "stream",
     "text": [
      "[ WARN:0@108.045] global /io/opencv/modules/imgcodecs/src/loadsave.cpp (239) findDecoder imread_('https://storage.cloud.google.com/foodygs/foodyai_data/Training_2/images/006316.jpg'): can't open/read file: check file path/integrity\n"
     ]
    }
   ],
   "source": [
    "img = get_an_image()"
   ]
  },
  {
   "cell_type": "code",
   "execution_count": 3,
   "id": "86291acd",
   "metadata": {},
   "outputs": [],
   "source": [
    "import matplotlib.pyplot as plt\n",
    "import matplotlib.image as mpimg"
   ]
  },
  {
   "cell_type": "code",
   "execution_count": 4,
   "id": "21f3ec4a",
   "metadata": {},
   "outputs": [],
   "source": [
    "img_url_and_name='https://storage.cloud.google.com/foodygs/foodyai_data/Training_2/images/006316.jpg'\n"
   ]
  },
  {
   "cell_type": "code",
   "execution_count": 7,
   "id": "23f77dd2",
   "metadata": {},
   "outputs": [
    {
     "name": "stdout",
     "output_type": "stream",
     "text": [
      "None\n"
     ]
    }
   ],
   "source": [
    "# img = mpimg.imread(img_url_and_name)\n",
    "print(img)"
   ]
  },
  {
   "cell_type": "code",
   "execution_count": null,
   "id": "1f232ab7",
   "metadata": {},
   "outputs": [],
   "source": []
  }
 ],
 "metadata": {
  "kernelspec": {
   "display_name": "Python 3 (ipykernel)",
   "language": "python",
   "name": "python3"
  },
  "language_info": {
   "codemirror_mode": {
    "name": "ipython",
    "version": 3
   },
   "file_extension": ".py",
   "mimetype": "text/x-python",
   "name": "python",
   "nbconvert_exporter": "python",
   "pygments_lexer": "ipython3",
   "version": "3.8.12"
  },
  "toc": {
   "base_numbering": 1,
   "nav_menu": {},
   "number_sections": true,
   "sideBar": true,
   "skip_h1_title": false,
   "title_cell": "Table of Contents",
   "title_sidebar": "Contents",
   "toc_cell": false,
   "toc_position": {},
   "toc_section_display": true,
   "toc_window_display": false
  }
 },
 "nbformat": 4,
 "nbformat_minor": 5
}
